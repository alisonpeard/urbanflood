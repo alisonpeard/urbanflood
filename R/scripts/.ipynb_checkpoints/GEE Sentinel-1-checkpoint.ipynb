{
 "cells": [
  {
   "cell_type": "markdown",
   "id": "ca77cb9c",
   "metadata": {},
   "source": [
    "# GEE loading Sentinel-1 GRD"
   ]
  },
  {
   "cell_type": "code",
   "execution_count": 1,
   "id": "bac9d06f",
   "metadata": {},
   "outputs": [],
   "source": [
    "# NOTE: need to install ee, then earthengine-api or \n",
    "# else ee will cause conflicts\n",
    "# !pip install ee\n",
    "# !pip install earthengine-api\n",
    "import ee\n",
    "ee.Initialize()\n",
    "import pandas as pd\n",
    "import shapefile\n",
    "import geemap\n",
    "import numpy as np\n",
    "import os, sys\n",
    "from os.path import join"
   ]
  },
  {
   "cell_type": "markdown",
   "id": "2ee12a54",
   "metadata": {},
   "source": [
    "# Load event images\n",
    "S1 GRD collection ID: `ee.ImageCollection(\"COPERNICUS/S1_GRD\")` <br>\n",
    "[Sentinel-1 tutorial](https://developers.google.com/earth-engine/tutorials/community/detecting-changes-in-sentinel-1-imagery-pt-1 )"
   ]
  },
  {
   "cell_type": "code",
   "execution_count": 2,
   "id": "74901f99",
   "metadata": {},
   "outputs": [
    {
     "data": {
      "text/plain": [
       "['VV', 'VH', 'angle']"
      ]
     },
     "execution_count": 2,
     "metadata": {},
     "output_type": "execute_result"
    }
   ],
   "source": [
    "# load images of event of interest\n",
    "region = \"creoleLA\"\n",
    "year = \"2020\"\n",
    "event = f\"{region}_{year}\"\n",
    "\n",
    "start = '2020-01-01'\n",
    "end = '2020-12-30'\n",
    "eventdate = '2020-08-29'\n",
    "\n",
    "roi = shapefile.Reader(join(\"..\", \"data\", event, f\"{region}.shp\"))\n",
    "roi.shapeType # 5: POLYGON\n",
    "roi = roi.shape(0).__geo_interface__  # convert to GeoJSON\n",
    "roigeom = ee.Geometry(roi)\n",
    "\n",
    "s1 = ee.ImageCollection(\"COPERNICUS/S1_GRD\")\n",
    "avg = s1.filterBounds(roi).filterDate(start, end).first().clip(roi)\n",
    "before = s1.filterBounds(roi).filterDate(start, eventdate).mean().clip(roi)\n",
    "after = s1.filterBounds(roi).filterDate(eventdate, end).mean().clip(roi)\n",
    "\n",
    "# check we have an image\n",
    "avg.bandNames().getInfo()"
   ]
  },
  {
   "cell_type": "code",
   "execution_count": 3,
   "id": "d54af61a",
   "metadata": {},
   "outputs": [
    {
     "data": {
      "application/vnd.jupyter.widget-view+json": {
       "model_id": "47f836bf7ca747ab904ddbdf26f4db99",
       "version_major": 2,
       "version_minor": 0
      },
      "text/plain": [
       "Map(center=[20, 0], controls=(WidgetControl(options=['position', 'transparent_bg'], widget=HBox(children=(Togg…"
      ]
     },
     "metadata": {},
     "output_type": "display_data"
    }
   ],
   "source": [
    "Map = geemap.Map()\n",
    "Map.addLayer(roigeom, {}, 'ROI')\n",
    "Map.centerObject(roigeom)\n",
    "\n",
    "# Make an RGB color composite image (VV,VH,VV/VH).\n",
    "rgb = ee.Image.rgb(avg.select('VV'),\n",
    "                   avg.select('VH'),\n",
    "                   avg.select('VV').divide(avg.select('VH')))\n",
    "\n",
    "# Make an RGB color composite image (VV,VH,VV/VH).\n",
    "rgb_before = ee.Image.rgb(before.select('VV'),\n",
    "                   before.select('VH'),\n",
    "                   before.select('VV').divide(before.select('VH')))\n",
    "\n",
    "# Make an RGB color composite image (VV,VH,VV/VH).\n",
    "rgb_after = ee.Image.rgb(after.select('VV'),\n",
    "                   after.select('VH'),\n",
    "                   after.select('VV').divide(after.select('VH')))\n",
    "\n",
    "Map.addLayer(rgb, {'min': [-20, -20, 0], 'max': [0, 0, 2]}, 'S2 RGB')\n",
    "Map.addLayer(rgb_before, {'min': [-20, -20, 0], 'max': [0, 0, 2]}, 'S2 RGB Before')\n",
    "Map.addLayer(rgb_after, {'min': [-20, -20, 0], 'max': [0, 0, 2]}, 'S2 RGB After')\n",
    "Map"
   ]
  },
  {
   "cell_type": "code",
   "execution_count": null,
   "id": "abc651ca",
   "metadata": {},
   "outputs": [],
   "source": []
  },
  {
   "cell_type": "code",
   "execution_count": null,
   "id": "c47a7d98",
   "metadata": {},
   "outputs": [],
   "source": []
  }
 ],
 "metadata": {
  "kernelspec": {
   "display_name": "Python 3",
   "language": "python",
   "name": "python3"
  },
  "language_info": {
   "codemirror_mode": {
    "name": "ipython",
    "version": 3
   },
   "file_extension": ".py",
   "mimetype": "text/x-python",
   "name": "python",
   "nbconvert_exporter": "python",
   "pygments_lexer": "ipython3",
   "version": "3.9.5"
  }
 },
 "nbformat": 4,
 "nbformat_minor": 5
}
