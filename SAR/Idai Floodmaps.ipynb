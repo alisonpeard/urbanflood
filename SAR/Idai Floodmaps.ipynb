{
 "cells": [
  {
   "cell_type": "markdown",
   "id": "e121a5bb",
   "metadata": {},
   "source": [
    "# Cyclone Idai\n",
    "Code to replicate the floodmaps of [Canty et al.](https://doi.org/10.3390/rs12010046) using this [tutorial](https://developers.google.com/earth-engine/tutorials/community/detecting-changes-in-sentinel-1-imagery-pt-4).\n",
    "\n",
    "This method utilises information about the distribution of the pixels in the VH and VV to identify significant changes between snapshots. In all VV, VH, HV, and HH bands, water has low backscatter compared to soil and bare vegetation and so amplitude-based methods can be used to detect changes (Bonafilia 2020). This method is not so good for urban areas. \n",
    "\n",
    "Briefly, pixels in the $m$-look multi-look images have a gamma distribution with shape parameters $m$ and $a/m$, where $a$ is the average intensity. Change between images is tested for using likelihood ratio tests (LRTs), where a small test statistic $Q$ indicates a significant difference between image likelihoods under the two hypotheses of no change/change. The distribution of this test statistic cannot be derived analytically so is approximated using Wilk's Theorem for the $-2\\log Q$ transformation, which tends to a chi-squared distribution for many measurements. Further to this, a process for identifying changes over a sequence of images (omnibus test) is derived by factorising $Q$ into intervals $R_j$ whose product is $Q$.\n",
    "\n",
    "Cyclone Idai made landfall near Beira, Sala, Mozambique on the 15th March 2019. It caused over 1,300 deaths. The maps being replicated here range from 1st Jan 2019 to 7th June 2019."
   ]
  },
  {
   "cell_type": "code",
   "execution_count": 1,
   "id": "92d9d329",
   "metadata": {
    "scrolled": true
   },
   "outputs": [
    {
     "data": {
      "text/html": [
       "<p>To authorize access needed by Earth Engine, open the following\n",
       "        URL in a web browser and follow the instructions:</p>\n",
       "        <p><a href=https://accounts.google.com/o/oauth2/auth?client_id=517222506229-vsmmajv00ul0bs7p89v5m89qs8eb9359.apps.googleusercontent.com&scope=https%3A%2F%2Fwww.googleapis.com%2Fauth%2Fearthengine+https%3A%2F%2Fwww.googleapis.com%2Fauth%2Fdevstorage.full_control&redirect_uri=urn%3Aietf%3Awg%3Aoauth%3A2.0%3Aoob&response_type=code&code_challenge=Q_RLvjEOdW3SUcw6VNDHaDyPCBGJXyVMgnqJPMf9G-4&code_challenge_method=S256>https://accounts.google.com/o/oauth2/auth?client_id=517222506229-vsmmajv00ul0bs7p89v5m89qs8eb9359.apps.googleusercontent.com&scope=https%3A%2F%2Fwww.googleapis.com%2Fauth%2Fearthengine+https%3A%2F%2Fwww.googleapis.com%2Fauth%2Fdevstorage.full_control&redirect_uri=urn%3Aietf%3Awg%3Aoauth%3A2.0%3Aoob&response_type=code&code_challenge=Q_RLvjEOdW3SUcw6VNDHaDyPCBGJXyVMgnqJPMf9G-4&code_challenge_method=S256</a></p>\n",
       "        <p>The authorization workflow will generate a code, which you\n",
       "        should paste in the box below</p>\n",
       "        "
      ],
      "text/plain": [
       "<IPython.core.display.HTML object>"
      ]
     },
     "metadata": {},
     "output_type": "display_data"
    },
    {
     "name": "stdout",
     "output_type": "stream",
     "text": [
      "Enter verification code: 4/1AX4XfWjXT-ZRD7TJIeoFmiS-eSsJxJAG5hsoE0l7JX0q_nr0Vu-Ue1bM7F4\n",
      "\n",
      "Successfully saved authorization token.\n"
     ]
    }
   ],
   "source": [
    "# authenticate Google Earth Engine account\n",
    "import ee\n",
    "ee.Authenticate()\n",
    "ee.Initialize()"
   ]
  },
  {
   "cell_type": "code",
   "execution_count": 2,
   "id": "5b34be92",
   "metadata": {},
   "outputs": [
    {
     "name": "stderr",
     "output_type": "stream",
     "text": [
      "<frozen importlib._bootstrap>:228: RuntimeWarning: scipy._lib.messagestream.MessageStream size changed, may indicate binary incompatibility. Expected 56 from C header, got 64 from PyObject\n"
     ]
    }
   ],
   "source": [
    "import time\n",
    "import matplotlib.pyplot as plt\n",
    "import numpy as np\n",
    "from scipy.stats import norm, gamma, f, chi2\n",
    "import IPython.display as disp\n",
    "import folium\n",
    "from functools import partial\n",
    "from importlib import reload\n",
    "import mortcanty_tutorial as tut\n",
    "%matplotlib inline\n",
    "\n",
    "# Add EE drawing method to folium.\n",
    "def add_ee_layer(self, ee_image_object, vis_params, name, show=True):\n",
    "    \"\"\"Method for displaying Earth Engine image tiles to folium map.\"\"\"\n",
    "    map_id_dict = ee.Image(ee_image_object).getMapId(vis_params)\n",
    "    folium.raster_layers.TileLayer(\n",
    "    tiles = map_id_dict['tile_fetcher'].url_format,\n",
    "    attr = 'Map Data &copy; <a href=\"https://earthengine.google.com/\">Google Earth Engine</a>',\n",
    "    name = name,\n",
    "    overlay = True,\n",
    "    control = True,\n",
    "    show = show\n",
    "  ).add_to(self)\n",
    "\n",
    "folium.Map.add_ee_layer = add_ee_layer"
   ]
  },
  {
   "cell_type": "code",
   "execution_count": 3,
   "id": "a837552e",
   "metadata": {},
   "outputs": [],
   "source": [
    "startdate = '2019-01-01'\n",
    "enddate = '2019-06-07'\n",
    "\n",
    "# From geojson.io\n",
    "geoJSON = {\n",
    "  \"type\": \"FeatureCollection\",\n",
    "  \"features\": [\n",
    "    {\n",
    "      \"type\": \"Feature\",\n",
    "      \"properties\": {},\n",
    "      \"geometry\": {\n",
    "        \"type\": \"Polygon\",\n",
    "        \"coordinates\": [\n",
    "          [\n",
    "            [\n",
    "              34.396820068359375,\n",
    "              -20.015935791381146\n",
    "            ],\n",
    "            [\n",
    "              34.778594970703125,\n",
    "              -20.015935791381146\n",
    "            ],\n",
    "            [\n",
    "              34.778594970703125,\n",
    "              -19.66198700531462\n",
    "            ],\n",
    "            [\n",
    "              34.396820068359375,\n",
    "              -19.66198700531462\n",
    "            ],\n",
    "            [\n",
    "              34.396820068359375,\n",
    "              -20.015935791381146\n",
    "            ]\n",
    "          ]\n",
    "        ]\n",
    "      }\n",
    "    }\n",
    "  ]\n",
    "}\n",
    "\n",
    "# turn coordinates into an ee Geometry\n",
    "coords = geoJSON['features'][0]['geometry']['coordinates']\n",
    "aoi = ee.Geometry.Polygon(coords)\n",
    "\n",
    "# define image collection\n",
    "im_coll = (ee.ImageCollection('COPERNICUS/S1_GRD_FLOAT')\n",
    "           .filterBounds(aoi)\n",
    "           .filterDate(ee.Date(startdate),ee.Date(enddate))\n",
    "           .filter(ee.Filter.eq('orbitProperties_pass', 'DESCENDING'))\n",
    "           .filter(ee.Filter.eq('relativeOrbitNumber_start', 6))\n",
    "           .map(lambda img: img.set('date', ee.Date(img.date()).format('YYYYMMdd')))\n",
    "           .sort('date'))\n",
    "\n",
    "def clip_img(img):\n",
    "    \"\"\"Clip a list of images.\"\"\"\n",
    "    return ee.Image(img).clip(aoi)\n",
    "\n",
    "# supply aoi to clip_img function\n",
    "clip_img = partial(tut.clip_img, aoi=aoi)\n",
    "\n",
    "im_list = im_coll.toList(im_coll.size())\n",
    "im_list = ee.List(im_list.map(clip_img))\n",
    "\n",
    "timestamplist = (im_coll.aggregate_array('date')\n",
    "                 .map(lambda d: ee.String('T').cat(ee.String(d)))\n",
    "                 .getInfo())"
   ]
  },
  {
   "cell_type": "code",
   "execution_count": 4,
   "id": "c4eb2b5d",
   "metadata": {},
   "outputs": [],
   "source": [
    "# Generate the set of change maps as in tutorial\n",
    "\n",
    "# Run the algorithm with median filter and at 1% significance.\n",
    "result = ee.Dictionary(tut.change_maps(im_list, median=True, alpha=0.01))\n",
    "# Extract the change maps and export to assets.\n",
    "cmap = ee.Image(result.get('cmap'))\n",
    "smap = ee.Image(result.get('smap'))\n",
    "fmap = ee.Image(result.get('fmap'))\n",
    "bmap = ee.Image(result.get('bmap'))\n",
    "cmaps = ee.Image.cat(cmap, smap, fmap, bmap).rename(['cmap', 'smap', 'fmap']+timestamplist[1:])"
   ]
  },
  {
   "cell_type": "markdown",
   "id": "ff160a1f",
   "metadata": {},
   "source": [
    "# Export to GEE then reimport and view"
   ]
  },
  {
   "cell_type": "code",
   "execution_count": 22,
   "id": "5afc8d16",
   "metadata": {},
   "outputs": [],
   "source": [
    "# finally, export the maps to Google Earth Engine assets\n",
    "im_mean = im_coll.select('VV').mean().clip(aoi)\n",
    "\n",
    "idai_maps = ee.Image.cat(im_mean.toDouble(),  # must have same precision\n",
    "                         cmaps.select('T20190302'),\n",
    "                         cmaps.select('T20190314'),\n",
    "                         cmaps.select('T20190320'),\n",
    "                         cmaps.select('T20190326'),\n",
    "                         cmaps.select('T20190401'),\n",
    "                         cmaps.select('T20190407'),\n",
    "                        ).rename(['average',\n",
    "                                  'T20190302',\n",
    "                                  'T20190314',\n",
    "                                  'T20190320',\n",
    "                                  'T20190326',\n",
    "                                  'T20190401',\n",
    "                                  'T20190407'])\n",
    "\n",
    "# define path to assets\n",
    "assetId = 'projects/floodmapping-2022/assets/examples/idai_beira'\n",
    "assexport = ee.batch.Export.image.toAsset(idai_maps,\n",
    "                                          description='assetExportTask',\n",
    "                                          assetId=assetId, scale=10, maxPixels=1e9)\n",
    "\n",
    "# export to google earth engine account\n",
    "assexport.start()"
   ]
  },
  {
   "cell_type": "code",
   "execution_count": 39,
   "id": "1440e7a6",
   "metadata": {},
   "outputs": [
    {
     "data": {
      "text/plain": [
       "{'state': 'COMPLETED',\n",
       " 'description': 'assetExportTask',\n",
       " 'creation_timestamp_ms': 1648567909016,\n",
       " 'update_timestamp_ms': 1648569193517,\n",
       " 'start_timestamp_ms': 1648567946409,\n",
       " 'task_type': 'EXPORT_IMAGE',\n",
       " 'destination_uris': ['https://code.earthengine.google.com/?asset=projects/floodmapping-2022/assets/examples/idai_beira'],\n",
       " 'attempt': 1,\n",
       " 'id': 'QUQF7ZHDTX6ERSS46TPHMJWS',\n",
       " 'name': 'projects/earthengine-legacy/operations/QUQF7ZHDTX6ERSS46TPHMJWS'}"
      ]
     },
     "execution_count": 39,
     "metadata": {},
     "output_type": "execute_result"
    }
   ],
   "source": [
    "# check status of export\n",
    "assexport.status()"
   ]
  },
  {
   "cell_type": "code",
   "execution_count": 40,
   "id": "b9843017",
   "metadata": {},
   "outputs": [
    {
     "data": {
      "text/html": [
       "<div style=\"width:100%;\"><div style=\"position:relative;width:100%;height:0;padding-bottom:60%;\"><span style=\"color:#565656\">Make this Notebook Trusted to load map: File -> Trust Notebook</span><iframe src=\"about:blank\" style=\"position:absolute;width:100%;height:100%;left:0;top:0;border:none !important;\" data-html=%3C%21DOCTYPE%20html%3E%0A%3Chead%3E%20%20%20%20%0A%20%20%20%20%3Cmeta%20http-equiv%3D%22content-type%22%20content%3D%22text/html%3B%20charset%3DUTF-8%22%20/%3E%0A%20%20%20%20%0A%20%20%20%20%20%20%20%20%3Cscript%3E%0A%20%20%20%20%20%20%20%20%20%20%20%20L_NO_TOUCH%20%3D%20false%3B%0A%20%20%20%20%20%20%20%20%20%20%20%20L_DISABLE_3D%20%3D%20false%3B%0A%20%20%20%20%20%20%20%20%3C/script%3E%0A%20%20%20%20%0A%20%20%20%20%3Cstyle%3Ehtml%2C%20body%20%7Bwidth%3A%20100%25%3Bheight%3A%20100%25%3Bmargin%3A%200%3Bpadding%3A%200%3B%7D%3C/style%3E%0A%20%20%20%20%3Cstyle%3E%23map%20%7Bposition%3Aabsolute%3Btop%3A0%3Bbottom%3A0%3Bright%3A0%3Bleft%3A0%3B%7D%3C/style%3E%0A%20%20%20%20%3Cscript%20src%3D%22https%3A//cdn.jsdelivr.net/npm/leaflet%401.6.0/dist/leaflet.js%22%3E%3C/script%3E%0A%20%20%20%20%3Cscript%20src%3D%22https%3A//code.jquery.com/jquery-1.12.4.min.js%22%3E%3C/script%3E%0A%20%20%20%20%3Cscript%20src%3D%22https%3A//maxcdn.bootstrapcdn.com/bootstrap/3.2.0/js/bootstrap.min.js%22%3E%3C/script%3E%0A%20%20%20%20%3Cscript%20src%3D%22https%3A//cdnjs.cloudflare.com/ajax/libs/Leaflet.awesome-markers/2.0.2/leaflet.awesome-markers.js%22%3E%3C/script%3E%0A%20%20%20%20%3Clink%20rel%3D%22stylesheet%22%20href%3D%22https%3A//cdn.jsdelivr.net/npm/leaflet%401.6.0/dist/leaflet.css%22/%3E%0A%20%20%20%20%3Clink%20rel%3D%22stylesheet%22%20href%3D%22https%3A//maxcdn.bootstrapcdn.com/bootstrap/3.2.0/css/bootstrap.min.css%22/%3E%0A%20%20%20%20%3Clink%20rel%3D%22stylesheet%22%20href%3D%22https%3A//maxcdn.bootstrapcdn.com/bootstrap/3.2.0/css/bootstrap-theme.min.css%22/%3E%0A%20%20%20%20%3Clink%20rel%3D%22stylesheet%22%20href%3D%22https%3A//maxcdn.bootstrapcdn.com/font-awesome/4.6.3/css/font-awesome.min.css%22/%3E%0A%20%20%20%20%3Clink%20rel%3D%22stylesheet%22%20href%3D%22https%3A//cdnjs.cloudflare.com/ajax/libs/Leaflet.awesome-markers/2.0.2/leaflet.awesome-markers.css%22/%3E%0A%20%20%20%20%3Clink%20rel%3D%22stylesheet%22%20href%3D%22https%3A//cdn.jsdelivr.net/gh/python-visualization/folium/folium/templates/leaflet.awesome.rotate.min.css%22/%3E%0A%20%20%20%20%0A%20%20%20%20%20%20%20%20%20%20%20%20%3Cmeta%20name%3D%22viewport%22%20content%3D%22width%3Ddevice-width%2C%0A%20%20%20%20%20%20%20%20%20%20%20%20%20%20%20%20initial-scale%3D1.0%2C%20maximum-scale%3D1.0%2C%20user-scalable%3Dno%22%20/%3E%0A%20%20%20%20%20%20%20%20%20%20%20%20%3Cstyle%3E%0A%20%20%20%20%20%20%20%20%20%20%20%20%20%20%20%20%23map_eb7d8f99b5434f0f8a86d2250af26df8%20%7B%0A%20%20%20%20%20%20%20%20%20%20%20%20%20%20%20%20%20%20%20%20position%3A%20relative%3B%0A%20%20%20%20%20%20%20%20%20%20%20%20%20%20%20%20%20%20%20%20width%3A%20100.0%25%3B%0A%20%20%20%20%20%20%20%20%20%20%20%20%20%20%20%20%20%20%20%20height%3A%20100.0%25%3B%0A%20%20%20%20%20%20%20%20%20%20%20%20%20%20%20%20%20%20%20%20left%3A%200.0%25%3B%0A%20%20%20%20%20%20%20%20%20%20%20%20%20%20%20%20%20%20%20%20top%3A%200.0%25%3B%0A%20%20%20%20%20%20%20%20%20%20%20%20%20%20%20%20%7D%0A%20%20%20%20%20%20%20%20%20%20%20%20%3C/style%3E%0A%20%20%20%20%20%20%20%20%0A%3C/head%3E%0A%3Cbody%3E%20%20%20%20%0A%20%20%20%20%0A%20%20%20%20%20%20%20%20%20%20%20%20%3Cdiv%20class%3D%22folium-map%22%20id%3D%22map_eb7d8f99b5434f0f8a86d2250af26df8%22%20%3E%3C/div%3E%0A%20%20%20%20%20%20%20%20%0A%3C/body%3E%0A%3Cscript%3E%20%20%20%20%0A%20%20%20%20%0A%20%20%20%20%20%20%20%20%20%20%20%20var%20map_eb7d8f99b5434f0f8a86d2250af26df8%20%3D%20L.map%28%0A%20%20%20%20%20%20%20%20%20%20%20%20%20%20%20%20%22map_eb7d8f99b5434f0f8a86d2250af26df8%22%2C%0A%20%20%20%20%20%20%20%20%20%20%20%20%20%20%20%20%7B%0A%20%20%20%20%20%20%20%20%20%20%20%20%20%20%20%20%20%20%20%20center%3A%20%5B-19.838997167406756%2C%2034.58770751953172%5D%2C%0A%20%20%20%20%20%20%20%20%20%20%20%20%20%20%20%20%20%20%20%20crs%3A%20L.CRS.EPSG3857%2C%0A%20%20%20%20%20%20%20%20%20%20%20%20%20%20%20%20%20%20%20%20zoom%3A%2011%2C%0A%20%20%20%20%20%20%20%20%20%20%20%20%20%20%20%20%20%20%20%20zoomControl%3A%20true%2C%0A%20%20%20%20%20%20%20%20%20%20%20%20%20%20%20%20%20%20%20%20preferCanvas%3A%20false%2C%0A%20%20%20%20%20%20%20%20%20%20%20%20%20%20%20%20%7D%0A%20%20%20%20%20%20%20%20%20%20%20%20%29%3B%0A%0A%20%20%20%20%20%20%20%20%20%20%20%20%0A%0A%20%20%20%20%20%20%20%20%0A%20%20%20%20%0A%20%20%20%20%20%20%20%20%20%20%20%20var%20tile_layer_1c90197548e84b219771008e82e938f9%20%3D%20L.tileLayer%28%0A%20%20%20%20%20%20%20%20%20%20%20%20%20%20%20%20%22https%3A//stamen-tiles-%7Bs%7D.a.ssl.fastly.net/toner/%7Bz%7D/%7Bx%7D/%7By%7D.png%22%2C%0A%20%20%20%20%20%20%20%20%20%20%20%20%20%20%20%20%7B%22attribution%22%3A%20%22Map%20tiles%20by%20%5Cu003ca%20href%3D%5C%22http%3A//stamen.com%5C%22%5Cu003eStamen%20Design%5Cu003c/a%5Cu003e%2C%20under%20%5Cu003ca%20href%3D%5C%22http%3A//creativecommons.org/licenses/by/3.0%5C%22%5Cu003eCC%20BY%203.0%5Cu003c/a%5Cu003e.%20Data%20by%20%5Cu0026copy%3B%20%5Cu003ca%20href%3D%5C%22http%3A//openstreetmap.org%5C%22%5Cu003eOpenStreetMap%5Cu003c/a%5Cu003e%2C%20under%20%5Cu003ca%20href%3D%5C%22http%3A//www.openstreetmap.org/copyright%5C%22%5Cu003eODbL%5Cu003c/a%5Cu003e.%22%2C%20%22detectRetina%22%3A%20false%2C%20%22maxNativeZoom%22%3A%2018%2C%20%22maxZoom%22%3A%2018%2C%20%22minZoom%22%3A%200%2C%20%22noWrap%22%3A%20false%2C%20%22opacity%22%3A%201%2C%20%22subdomains%22%3A%20%22abc%22%2C%20%22tms%22%3A%20false%7D%0A%20%20%20%20%20%20%20%20%20%20%20%20%29.addTo%28map_eb7d8f99b5434f0f8a86d2250af26df8%29%3B%0A%20%20%20%20%20%20%20%20%0A%20%20%20%20%0A%20%20%20%20%20%20%20%20%20%20%20%20var%20tile_layer_cb5f4f8a8eff4bb6b91adccc339ef3d2%20%3D%20L.tileLayer%28%0A%20%20%20%20%20%20%20%20%20%20%20%20%20%20%20%20%22https%3A//earthengine.googleapis.com/v1alpha/projects/earthengine-legacy/maps/06c8b5ec0a1aa79166e3a801382e35bf-1f1887f9e245d07d0b6ce45e98c6a61d/tiles/%7Bz%7D/%7Bx%7D/%7By%7D%22%2C%0A%20%20%20%20%20%20%20%20%20%20%20%20%20%20%20%20%7B%22attribution%22%3A%20%22Map%20Data%20%5Cu0026copy%3B%20%5Cu003ca%20href%3D%5C%22https%3A//earthengine.google.com/%5C%22%5Cu003eGoogle%20Earth%20Engine%5Cu003c/a%5Cu003e%22%2C%20%22detectRetina%22%3A%20false%2C%20%22maxNativeZoom%22%3A%2018%2C%20%22maxZoom%22%3A%2018%2C%20%22minZoom%22%3A%200%2C%20%22noWrap%22%3A%20false%2C%20%22opacity%22%3A%201%2C%20%22subdomains%22%3A%20%22abc%22%2C%20%22tms%22%3A%20false%7D%0A%20%20%20%20%20%20%20%20%20%20%20%20%29.addTo%28map_eb7d8f99b5434f0f8a86d2250af26df8%29%3B%0A%20%20%20%20%20%20%20%20%0A%20%20%20%20%0A%20%20%20%20%20%20%20%20%20%20%20%20var%20tile_layer_245b9b2654bc46be96372e6705da3618%20%3D%20L.tileLayer%28%0A%20%20%20%20%20%20%20%20%20%20%20%20%20%20%20%20%22https%3A//earthengine.googleapis.com/v1alpha/projects/earthengine-legacy/maps/c6076d9c001729ae294b85be969674a1-c91b6aac261fb6cdcbafb2472e079396/tiles/%7Bz%7D/%7Bx%7D/%7By%7D%22%2C%0A%20%20%20%20%20%20%20%20%20%20%20%20%20%20%20%20%7B%22attribution%22%3A%20%22Map%20Data%20%5Cu0026copy%3B%20%5Cu003ca%20href%3D%5C%22https%3A//earthengine.google.com/%5C%22%5Cu003eGoogle%20Earth%20Engine%5Cu003c/a%5Cu003e%22%2C%20%22detectRetina%22%3A%20false%2C%20%22maxNativeZoom%22%3A%2018%2C%20%22maxZoom%22%3A%2018%2C%20%22minZoom%22%3A%200%2C%20%22noWrap%22%3A%20false%2C%20%22opacity%22%3A%201%2C%20%22subdomains%22%3A%20%22abc%22%2C%20%22tms%22%3A%20false%7D%0A%20%20%20%20%20%20%20%20%20%20%20%20%29.addTo%28map_eb7d8f99b5434f0f8a86d2250af26df8%29%3B%0A%20%20%20%20%20%20%20%20%0A%20%20%20%20%0A%20%20%20%20%20%20%20%20%20%20%20%20var%20tile_layer_63267785a07046e9a81354cf3dc2a84b%20%3D%20L.tileLayer%28%0A%20%20%20%20%20%20%20%20%20%20%20%20%20%20%20%20%22https%3A//earthengine.googleapis.com/v1alpha/projects/earthengine-legacy/maps/508eff078ef6063a0ff7d338b447265d-6b9377782761d57b794f2a47fd33932e/tiles/%7Bz%7D/%7Bx%7D/%7By%7D%22%2C%0A%20%20%20%20%20%20%20%20%20%20%20%20%20%20%20%20%7B%22attribution%22%3A%20%22Map%20Data%20%5Cu0026copy%3B%20%5Cu003ca%20href%3D%5C%22https%3A//earthengine.google.com/%5C%22%5Cu003eGoogle%20Earth%20Engine%5Cu003c/a%5Cu003e%22%2C%20%22detectRetina%22%3A%20false%2C%20%22maxNativeZoom%22%3A%2018%2C%20%22maxZoom%22%3A%2018%2C%20%22minZoom%22%3A%200%2C%20%22noWrap%22%3A%20false%2C%20%22opacity%22%3A%201%2C%20%22subdomains%22%3A%20%22abc%22%2C%20%22tms%22%3A%20false%7D%0A%20%20%20%20%20%20%20%20%20%20%20%20%29.addTo%28map_eb7d8f99b5434f0f8a86d2250af26df8%29%3B%0A%20%20%20%20%20%20%20%20%0A%20%20%20%20%0A%20%20%20%20%20%20%20%20%20%20%20%20var%20tile_layer_9456c11083d1427dae5339057aa3b7d5%20%3D%20L.tileLayer%28%0A%20%20%20%20%20%20%20%20%20%20%20%20%20%20%20%20%22https%3A//earthengine.googleapis.com/v1alpha/projects/earthengine-legacy/maps/d0dae889f8ea12cac0c9c9ef961c4064-e3ba19e8de7c8937b764d9e801e58032/tiles/%7Bz%7D/%7Bx%7D/%7By%7D%22%2C%0A%20%20%20%20%20%20%20%20%20%20%20%20%20%20%20%20%7B%22attribution%22%3A%20%22Map%20Data%20%5Cu0026copy%3B%20%5Cu003ca%20href%3D%5C%22https%3A//earthengine.google.com/%5C%22%5Cu003eGoogle%20Earth%20Engine%5Cu003c/a%5Cu003e%22%2C%20%22detectRetina%22%3A%20false%2C%20%22maxNativeZoom%22%3A%2018%2C%20%22maxZoom%22%3A%2018%2C%20%22minZoom%22%3A%200%2C%20%22noWrap%22%3A%20false%2C%20%22opacity%22%3A%201%2C%20%22subdomains%22%3A%20%22abc%22%2C%20%22tms%22%3A%20false%7D%0A%20%20%20%20%20%20%20%20%20%20%20%20%29.addTo%28map_eb7d8f99b5434f0f8a86d2250af26df8%29%3B%0A%20%20%20%20%20%20%20%20%0A%20%20%20%20%0A%20%20%20%20%20%20%20%20%20%20%20%20var%20tile_layer_7e1f4e40c4a64b11926fe7f24b3b30a7%20%3D%20L.tileLayer%28%0A%20%20%20%20%20%20%20%20%20%20%20%20%20%20%20%20%22https%3A//earthengine.googleapis.com/v1alpha/projects/earthengine-legacy/maps/a922605e52393e64662b00cdb1cb7fd7-cfdacd237025ffcf894006f9aa639808/tiles/%7Bz%7D/%7Bx%7D/%7By%7D%22%2C%0A%20%20%20%20%20%20%20%20%20%20%20%20%20%20%20%20%7B%22attribution%22%3A%20%22Map%20Data%20%5Cu0026copy%3B%20%5Cu003ca%20href%3D%5C%22https%3A//earthengine.google.com/%5C%22%5Cu003eGoogle%20Earth%20Engine%5Cu003c/a%5Cu003e%22%2C%20%22detectRetina%22%3A%20false%2C%20%22maxNativeZoom%22%3A%2018%2C%20%22maxZoom%22%3A%2018%2C%20%22minZoom%22%3A%200%2C%20%22noWrap%22%3A%20false%2C%20%22opacity%22%3A%201%2C%20%22subdomains%22%3A%20%22abc%22%2C%20%22tms%22%3A%20false%7D%0A%20%20%20%20%20%20%20%20%20%20%20%20%29.addTo%28map_eb7d8f99b5434f0f8a86d2250af26df8%29%3B%0A%20%20%20%20%20%20%20%20%0A%20%20%20%20%0A%20%20%20%20%20%20%20%20%20%20%20%20var%20tile_layer_84ec22cf1709411cba2a4d1c13e8c7c8%20%3D%20L.tileLayer%28%0A%20%20%20%20%20%20%20%20%20%20%20%20%20%20%20%20%22https%3A//earthengine.googleapis.com/v1alpha/projects/earthengine-legacy/maps/dc1b58aa019a2d62a40ea67633fdce59-221e75049f481f3e306f8cf5e6b2b948/tiles/%7Bz%7D/%7Bx%7D/%7By%7D%22%2C%0A%20%20%20%20%20%20%20%20%20%20%20%20%20%20%20%20%7B%22attribution%22%3A%20%22Map%20Data%20%5Cu0026copy%3B%20%5Cu003ca%20href%3D%5C%22https%3A//earthengine.google.com/%5C%22%5Cu003eGoogle%20Earth%20Engine%5Cu003c/a%5Cu003e%22%2C%20%22detectRetina%22%3A%20false%2C%20%22maxNativeZoom%22%3A%2018%2C%20%22maxZoom%22%3A%2018%2C%20%22minZoom%22%3A%200%2C%20%22noWrap%22%3A%20false%2C%20%22opacity%22%3A%201%2C%20%22subdomains%22%3A%20%22abc%22%2C%20%22tms%22%3A%20false%7D%0A%20%20%20%20%20%20%20%20%20%20%20%20%29.addTo%28map_eb7d8f99b5434f0f8a86d2250af26df8%29%3B%0A%20%20%20%20%20%20%20%20%0A%20%20%20%20%0A%20%20%20%20%20%20%20%20%20%20%20%20var%20tile_layer_5332b32ccc774063a53763bbb9977f58%20%3D%20L.tileLayer%28%0A%20%20%20%20%20%20%20%20%20%20%20%20%20%20%20%20%22https%3A//earthengine.googleapis.com/v1alpha/projects/earthengine-legacy/maps/6aadc2d0160a3f6013dd46a28f51d043-b1185d2e1ad33fd2b5b0528c72d8197b/tiles/%7Bz%7D/%7Bx%7D/%7By%7D%22%2C%0A%20%20%20%20%20%20%20%20%20%20%20%20%20%20%20%20%7B%22attribution%22%3A%20%22Map%20Data%20%5Cu0026copy%3B%20%5Cu003ca%20href%3D%5C%22https%3A//earthengine.google.com/%5C%22%5Cu003eGoogle%20Earth%20Engine%5Cu003c/a%5Cu003e%22%2C%20%22detectRetina%22%3A%20false%2C%20%22maxNativeZoom%22%3A%2018%2C%20%22maxZoom%22%3A%2018%2C%20%22minZoom%22%3A%200%2C%20%22noWrap%22%3A%20false%2C%20%22opacity%22%3A%201%2C%20%22subdomains%22%3A%20%22abc%22%2C%20%22tms%22%3A%20false%7D%0A%20%20%20%20%20%20%20%20%20%20%20%20%29.addTo%28map_eb7d8f99b5434f0f8a86d2250af26df8%29%3B%0A%20%20%20%20%20%20%20%20%0A%20%20%20%20%0A%20%20%20%20%20%20%20%20%20%20%20%20var%20tile_layer_93732a8d881e41338b09672f44f5b35f%20%3D%20L.tileLayer%28%0A%20%20%20%20%20%20%20%20%20%20%20%20%20%20%20%20%22https%3A//earthengine.googleapis.com/v1alpha/projects/earthengine-legacy/maps/279bdcb3d56dbe49574cbcc97d1dd1c4-04b769206312122ab38c38953ff3b797/tiles/%7Bz%7D/%7Bx%7D/%7By%7D%22%2C%0A%20%20%20%20%20%20%20%20%20%20%20%20%20%20%20%20%7B%22attribution%22%3A%20%22Map%20Data%20%5Cu0026copy%3B%20%5Cu003ca%20href%3D%5C%22https%3A//earthengine.google.com/%5C%22%5Cu003eGoogle%20Earth%20Engine%5Cu003c/a%5Cu003e%22%2C%20%22detectRetina%22%3A%20false%2C%20%22maxNativeZoom%22%3A%2018%2C%20%22maxZoom%22%3A%2018%2C%20%22minZoom%22%3A%200%2C%20%22noWrap%22%3A%20false%2C%20%22opacity%22%3A%201%2C%20%22subdomains%22%3A%20%22abc%22%2C%20%22tms%22%3A%20false%7D%0A%20%20%20%20%20%20%20%20%20%20%20%20%29.addTo%28map_eb7d8f99b5434f0f8a86d2250af26df8%29%3B%0A%20%20%20%20%20%20%20%20%0A%20%20%20%20%0A%20%20%20%20%20%20%20%20%20%20%20%20var%20layer_control_d8897a63dc6141ff998af23fc26d665a%20%3D%20%7B%0A%20%20%20%20%20%20%20%20%20%20%20%20%20%20%20%20base_layers%20%3A%20%7B%0A%20%20%20%20%20%20%20%20%20%20%20%20%20%20%20%20%20%20%20%20%22stamentoner%22%20%3A%20tile_layer_1c90197548e84b219771008e82e938f9%2C%0A%20%20%20%20%20%20%20%20%20%20%20%20%20%20%20%20%7D%2C%0A%20%20%20%20%20%20%20%20%20%20%20%20%20%20%20%20overlays%20%3A%20%20%7B%0A%20%20%20%20%20%20%20%20%20%20%20%20%20%20%20%20%20%20%20%20%22mean%20of%20images%22%20%3A%20tile_layer_cb5f4f8a8eff4bb6b91adccc339ef3d2%2C%0A%20%20%20%20%20%20%20%20%20%20%20%20%20%20%20%20%20%20%20%20%22T20190302%22%20%3A%20tile_layer_245b9b2654bc46be96372e6705da3618%2C%0A%20%20%20%20%20%20%20%20%20%20%20%20%20%20%20%20%20%20%20%20%22T20190314%22%20%3A%20tile_layer_63267785a07046e9a81354cf3dc2a84b%2C%0A%20%20%20%20%20%20%20%20%20%20%20%20%20%20%20%20%20%20%20%20%22T20190320%22%20%3A%20tile_layer_9456c11083d1427dae5339057aa3b7d5%2C%0A%20%20%20%20%20%20%20%20%20%20%20%20%20%20%20%20%20%20%20%20%22T20190326%22%20%3A%20tile_layer_7e1f4e40c4a64b11926fe7f24b3b30a7%2C%0A%20%20%20%20%20%20%20%20%20%20%20%20%20%20%20%20%20%20%20%20%22T20190401%22%20%3A%20tile_layer_84ec22cf1709411cba2a4d1c13e8c7c8%2C%0A%20%20%20%20%20%20%20%20%20%20%20%20%20%20%20%20%20%20%20%20%22T20190407%22%20%3A%20tile_layer_5332b32ccc774063a53763bbb9977f58%2C%0A%20%20%20%20%20%20%20%20%20%20%20%20%20%20%20%20%20%20%20%20%22mangroves%22%20%3A%20tile_layer_93732a8d881e41338b09672f44f5b35f%2C%0A%20%20%20%20%20%20%20%20%20%20%20%20%20%20%20%20%7D%2C%0A%20%20%20%20%20%20%20%20%20%20%20%20%7D%3B%0A%20%20%20%20%20%20%20%20%20%20%20%20L.control.layers%28%0A%20%20%20%20%20%20%20%20%20%20%20%20%20%20%20%20layer_control_d8897a63dc6141ff998af23fc26d665a.base_layers%2C%0A%20%20%20%20%20%20%20%20%20%20%20%20%20%20%20%20layer_control_d8897a63dc6141ff998af23fc26d665a.overlays%2C%0A%20%20%20%20%20%20%20%20%20%20%20%20%20%20%20%20%7B%22autoZIndex%22%3A%20true%2C%20%22collapsed%22%3A%20true%2C%20%22position%22%3A%20%22topright%22%7D%0A%20%20%20%20%20%20%20%20%20%20%20%20%29.addTo%28map_eb7d8f99b5434f0f8a86d2250af26df8%29%3B%0A%20%20%20%20%20%20%20%20%20%20%20%20tile_layer_245b9b2654bc46be96372e6705da3618.remove%28%29%3B%0A%20%20%20%20%20%20%20%20%20%20%20%20tile_layer_63267785a07046e9a81354cf3dc2a84b.remove%28%29%3B%0A%20%20%20%20%20%20%20%20%20%20%20%20tile_layer_7e1f4e40c4a64b11926fe7f24b3b30a7.remove%28%29%3B%0A%20%20%20%20%20%20%20%20%20%20%20%20tile_layer_84ec22cf1709411cba2a4d1c13e8c7c8.remove%28%29%3B%0A%20%20%20%20%20%20%20%20%20%20%20%20tile_layer_5332b32ccc774063a53763bbb9977f58.remove%28%29%3B%0A%20%20%20%20%20%20%20%20%0A%3C/script%3E onload=\"this.contentDocument.open();this.contentDocument.write(    decodeURIComponent(this.getAttribute('data-html')));this.contentDocument.close();\" allowfullscreen webkitallowfullscreen mozallowfullscreen></iframe></div></div>"
      ],
      "text/plain": [
       "<folium.folium.Map at 0x169aed220>"
      ]
     },
     "execution_count": 40,
     "metadata": {},
     "output_type": "execute_result"
    }
   ],
   "source": [
    "idai_maps = ee.Image('projects/floodmapping-2022/assets/examples/idai_beira')\n",
    "idai_maps = idai_maps.updateMask(idai_maps.gt(0))\n",
    "\n",
    "location = aoi.centroid().coordinates().getInfo()[::-1]\n",
    "palette = ['black', 'red', 'cyan', 'yellow']\n",
    "\n",
    "mangroves = ee.Image(ee.ImageCollection(\"LANDSAT/MANGROVE_FORESTS\")\n",
    "                               .filterBounds(aoi)\n",
    "                               .first()\n",
    "                               .clip(aoi))\n",
    "mangrovesVis = {'min': 0, 'max': 1.0, 'palette': '#2edb7f'}\n",
    "\n",
    "mp = folium.Map(location=location, tiles='Stamen Toner', zoom_start=11)\n",
    "\n",
    "mp.add_ee_layer(idai_maps.select('average'), {}, 'mean of images')\n",
    "mp.add_ee_layer(idai_maps.select('T20190302'), {'min': 0,'max': 3, 'palette': palette}, 'T20190302', show=False)\n",
    "mp.add_ee_layer(idai_maps.select('T20190314'), {'min': 0,'max': 3, 'palette': palette}, 'T20190314', show=False)\n",
    "mp.add_ee_layer(idai_maps.select('T20190320'), {'min': 0,'max': 3, 'palette': palette}, 'T20190320')\n",
    "mp.add_ee_layer(idai_maps.select('T20190326'), {'min': 0,'max': 3, 'palette': palette}, 'T20190326', show=False)\n",
    "mp.add_ee_layer(idai_maps.select('T20190401'), {'min': 0,'max': 3, 'palette': palette}, 'T20190401', show=False)\n",
    "mp.add_ee_layer(idai_maps.select('T20190407'), {'min': 0,'max': 3, 'palette': palette}, 'T20190407', show=False)\n",
    "\n",
    "mp.add_ee_layer(mangroves, mangrovesVis, 'mangroves')\n",
    "\n",
    "mp.add_child(folium.LayerControl())\n"
   ]
  },
  {
   "cell_type": "code",
   "execution_count": 41,
   "id": "59871197",
   "metadata": {},
   "outputs": [],
   "source": [
    "# uncomment to save the html file of the flood maps\n",
    "mp.save(\"idai_mozambique.html\")"
   ]
  },
  {
   "cell_type": "markdown",
   "id": "81884d5f",
   "metadata": {},
   "source": [
    "# Export to Google Drive as GeoTIFF"
   ]
  },
  {
   "cell_type": "code",
   "execution_count": 42,
   "id": "0626064f",
   "metadata": {},
   "outputs": [],
   "source": [
    "# define path to assets\n",
    "assexport_drive = ee.batch.Export.image.toDrive(idai_maps,\n",
    "                                                description='assetExportTask',\n",
    "                                                scale=10,\n",
    "                                                maxPixels=1e9)\n",
    "\n",
    "# export to google earth engine account\n",
    "assexport_drive.start()"
   ]
  },
  {
   "cell_type": "code",
   "execution_count": 46,
   "id": "d584a3b6",
   "metadata": {},
   "outputs": [
    {
     "data": {
      "text/plain": [
       "{'state': 'COMPLETED',\n",
       " 'description': 'assetExportTask',\n",
       " 'creation_timestamp_ms': 1648569367051,\n",
       " 'update_timestamp_ms': 1648569669642,\n",
       " 'start_timestamp_ms': 1648569439892,\n",
       " 'task_type': 'EXPORT_IMAGE',\n",
       " 'destination_uris': ['https://drive.google.com/'],\n",
       " 'attempt': 1,\n",
       " 'id': '2TMF5ME7DGVMM2J2BBS3TU4P',\n",
       " 'name': 'projects/earthengine-legacy/operations/2TMF5ME7DGVMM2J2BBS3TU4P'}"
      ]
     },
     "execution_count": 46,
     "metadata": {},
     "output_type": "execute_result"
    }
   ],
   "source": [
    "# export to google earth engine account\n",
    "assexport_drive.status()"
   ]
  }
 ],
 "metadata": {
  "kernelspec": {
   "display_name": "Python 3",
   "language": "python",
   "name": "python3"
  },
  "language_info": {
   "codemirror_mode": {
    "name": "ipython",
    "version": 3
   },
   "file_extension": ".py",
   "mimetype": "text/x-python",
   "name": "python",
   "nbconvert_exporter": "python",
   "pygments_lexer": "ipython3",
   "version": "3.9.12"
  }
 },
 "nbformat": 4,
 "nbformat_minor": 5
}
